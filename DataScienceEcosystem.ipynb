{
 "cells": [
  {
   "cell_type": "markdown",
   "id": "14761367-a7ea-45e0-b24b-4c475728c9c9",
   "metadata": {},
   "source": [
    "# Data Science Tools and Ecosystem"
   ]
  },
  {
   "cell_type": "markdown",
   "id": "e2e6256a-9a71-47f1-8ae0-09097a2e0349",
   "metadata": {},
   "source": [
    "In this notebook, Data Science Tools and Ecosystem are summarized."
   ]
  },
  {
   "cell_type": "markdown",
   "id": "7c94ddbf-0969-4943-9ce3-d58b6130f135",
   "metadata": {},
   "source": [
    "**Objectives:**\n",
    "List popular languages for Data Science\n",
    "- PYTHON\n",
    "- R\n",
    "- SQL\n",
    "- SCALA"
   ]
  },
  {
   "cell_type": "markdown",
   "id": "9d5228b2-2722-4b40-9a5d-cf1f83d35964",
   "metadata": {},
   "source": [
    "Some of the popular languages that Data Scientists use are:\n",
    "1. PYTHON\n",
    "2. R\n",
    "3. SQL\n",
    "4. SCALA"
   ]
  },
  {
   "cell_type": "markdown",
   "id": "9e56a748-f20c-44d8-8598-8eddfc031857",
   "metadata": {},
   "source": [
    "Some of the commonly used libraries used by Data Scientists include:\n",
    "1. PANDAS\n",
    "2. NUMPY\n",
    "3. MATPLOTLIB\n",
    "4. SCIPY"
   ]
  },
  {
   "cell_type": "markdown",
   "id": "6b0ae568-6f85-4236-91a0-8c3b6c7edb3c",
   "metadata": {},
   "source": [
    "|Data Science Tools|\n",
    "--------------------\n",
    "|VISUAL STUDIO CODE|\n",
    "|ATOM|\n",
    "|IDLE|"
   ]
  },
  {
   "cell_type": "markdown",
   "id": "f7a6dacf-054c-4e40-b2e3-b62eaff1d1e0",
   "metadata": {},
   "source": [
    "Below are a few examples of evaluating arithmetic expressions in Python"
   ]
  },
  {
   "cell_type": "code",
   "execution_count": 1,
   "id": "019dcf6c-4664-46ea-97f2-9f65f01c8d70",
   "metadata": {
    "tags": []
   },
   "outputs": [
    {
     "data": {
      "text/plain": [
       "17"
      ]
     },
     "execution_count": 1,
     "metadata": {},
     "output_type": "execute_result"
    }
   ],
   "source": [
    "#This a simple arithmetic expression to mutiply then add integers\n",
    "(3*4)+5"
   ]
  },
  {
   "cell_type": "code",
   "execution_count": 2,
   "id": "1b240fd4-c902-44f2-9aeb-e5c3032b3664",
   "metadata": {
    "tags": []
   },
   "outputs": [
    {
     "data": {
      "text/plain": [
       "3.3333333333333335"
      ]
     },
     "execution_count": 2,
     "metadata": {},
     "output_type": "execute_result"
    }
   ],
   "source": [
    "#This will convert 200 minutes to hours by diving by 60\n",
    "200/60"
   ]
  },
  {
   "cell_type": "markdown",
   "id": "12244bad-f4c9-4d1b-8b5a-70c603aa8dbc",
   "metadata": {},
   "source": [
    "## Author\n",
    "SRADHASUMAN"
   ]
  },
  {
   "cell_type": "code",
   "execution_count": null,
   "id": "e3601704-f47e-4f78-bd05-6ff4d52a97b3",
   "metadata": {},
   "outputs": [],
   "source": []
  }
 ],
 "metadata": {
  "kernelspec": {
   "display_name": "Python",
   "language": "python",
   "name": "conda-env-python-py"
  },
  "language_info": {
   "codemirror_mode": {
    "name": "ipython",
    "version": 3
   },
   "file_extension": ".py",
   "mimetype": "text/x-python",
   "name": "python",
   "nbconvert_exporter": "python",
   "pygments_lexer": "ipython3",
   "version": "3.7.12"
  }
 },
 "nbformat": 4,
 "nbformat_minor": 5
}
